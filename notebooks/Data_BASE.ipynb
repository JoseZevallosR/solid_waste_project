{
 "cells": [
  {
   "cell_type": "code",
   "execution_count": 13,
   "id": "1b6fd4bb",
   "metadata": {},
   "outputs": [],
   "source": [
    "import pandas as pd\n",
    "import sqlite3\n",
    "\n",
    "%config Completer.use_jedi = False #for auto complete cod"
   ]
  },
  {
   "cell_type": "markdown",
   "id": "a48bf374",
   "metadata": {},
   "source": [
    "### Base de datos Sqlite"
   ]
  },
  {
   "cell_type": "code",
   "execution_count": 19,
   "id": "55d66c88",
   "metadata": {},
   "outputs": [],
   "source": [
    "conn = sqlite3.connect('../data/solid_waste.db')"
   ]
  },
  {
   "cell_type": "code",
   "execution_count": 15,
   "id": "5cce3d07",
   "metadata": {},
   "outputs": [],
   "source": [
    "statistics = ['promedio','media']\n",
    "grupo = ['provincial','departamental','distrital']"
   ]
  },
  {
   "cell_type": "code",
   "execution_count": 16,
   "id": "d507a370",
   "metadata": {},
   "outputs": [
    {
     "name": "stderr",
     "output_type": "stream",
     "text": [
      "C:\\Users\\jose\\anaconda3\\envs\\work_env\\lib\\site-packages\\pandas\\core\\generic.py:2779: UserWarning: The spaces in these column names will not be changed. In pandas versions < 0.14, spaces were converted to underscores.\n",
      "  sql.to_sql(\n"
     ]
    }
   ],
   "source": [
    "file = '../data/excel_estadisticos.xlsx'\n",
    "\n",
    "for stat in statistics:\n",
    "    for group in grupo:\n",
    "        sheet_name = stat+'_'+group\n",
    "        df  = pd.read_excel(file,sheet_name=sheet_name,header=0)        \n",
    "        df.to_sql(name = sheet_name,con=conn, if_exists='replace',index=False)\n",
    "        conn.commit()\n",
    "\n",
    "conn.close()"
   ]
  },
  {
   "cell_type": "code",
   "execution_count": null,
   "id": "6c1880ab",
   "metadata": {},
   "outputs": [],
   "source": []
  }
 ],
 "metadata": {
  "kernelspec": {
   "display_name": "Python 3 (ipykernel)",
   "language": "python",
   "name": "python3"
  },
  "language_info": {
   "codemirror_mode": {
    "name": "ipython",
    "version": 3
   },
   "file_extension": ".py",
   "mimetype": "text/x-python",
   "name": "python",
   "nbconvert_exporter": "python",
   "pygments_lexer": "ipython3",
   "version": "3.8.5"
  }
 },
 "nbformat": 4,
 "nbformat_minor": 5
}

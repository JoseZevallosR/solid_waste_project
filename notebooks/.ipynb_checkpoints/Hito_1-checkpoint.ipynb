{
 "cells": [
  {
   "cell_type": "code",
   "execution_count": 11,
   "id": "122db10b",
   "metadata": {},
   "outputs": [],
   "source": [
    "import pandas as pd\n",
    "import numpy as np\n",
    "from sklearn import datasets, linear_model\n",
    "from sklearn.linear_model import LinearRegression\n",
    "import statsmodels.api as sm\n",
    "from scipy import stats\n",
    "from sklearn.preprocessing import StandardScaler\n",
    "\n",
    "%config Completer.use_jedi = False #for auto complete cod"
   ]
  },
  {
   "cell_type": "code",
   "execution_count": 8,
   "id": "de71afe6",
   "metadata": {},
   "outputs": [],
   "source": [
    "#leyendo base de datos\n",
    "archivo = '../data/waste.csv'\n",
    "df = pd.read_csv(archivo,sep=';')"
   ]
  },
  {
   "cell_type": "code",
   "execution_count": 9,
   "id": "df52fb30",
   "metadata": {},
   "outputs": [
    {
     "data": {
      "text/html": [
       "<div>\n",
       "<style scoped>\n",
       "    .dataframe tbody tr th:only-of-type {\n",
       "        vertical-align: middle;\n",
       "    }\n",
       "\n",
       "    .dataframe tbody tr th {\n",
       "        vertical-align: top;\n",
       "    }\n",
       "\n",
       "    .dataframe thead th {\n",
       "        text-align: right;\n",
       "    }\n",
       "</style>\n",
       "<table border=\"1\" class=\"dataframe\">\n",
       "  <thead>\n",
       "    <tr style=\"text-align: right;\">\n",
       "      <th></th>\n",
       "      <th>NUMERO DE AMBIENTES</th>\n",
       "      <th>Numero de Personas</th>\n",
       "      <th>PAGO ULTIMO MES ELECTRICIDAD</th>\n",
       "      <th>PAGO ULTIMO MES  PARA GLP</th>\n",
       "      <th>Gasto anual del Hogar</th>\n",
       "      <th>ALIMENTOS DENTRO</th>\n",
       "      <th>ALIMENTOS DENTRO BENEFICO</th>\n",
       "      <th>ALIMENTOS FUERA</th>\n",
       "      <th>ELECTRICIDAD</th>\n",
       "      <th>GLP</th>\n",
       "      <th>GN</th>\n",
       "      <th>CARBON</th>\n",
       "      <th>LENA</th>\n",
       "      <th>OTRO</th>\n",
       "      <th>NO COCINAN</th>\n",
       "      <th>Organico</th>\n",
       "    </tr>\n",
       "  </thead>\n",
       "  <tbody>\n",
       "    <tr>\n",
       "      <th>0</th>\n",
       "      <td>2.0</td>\n",
       "      <td>3</td>\n",
       "      <td>13.00</td>\n",
       "      <td>35.0</td>\n",
       "      <td>9432.00</td>\n",
       "      <td>540.47</td>\n",
       "      <td>293.74</td>\n",
       "      <td>710.72</td>\n",
       "      <td>36</td>\n",
       "      <td>843</td>\n",
       "      <td>0</td>\n",
       "      <td>9</td>\n",
       "      <td>943</td>\n",
       "      <td>348</td>\n",
       "      <td>48</td>\n",
       "      <td>35573.81646</td>\n",
       "    </tr>\n",
       "    <tr>\n",
       "      <th>1</th>\n",
       "      <td>4.0</td>\n",
       "      <td>4</td>\n",
       "      <td>35.00</td>\n",
       "      <td>35.0</td>\n",
       "      <td>8214.25</td>\n",
       "      <td>673.44</td>\n",
       "      <td>680.61</td>\n",
       "      <td>399.92</td>\n",
       "      <td>196</td>\n",
       "      <td>1311</td>\n",
       "      <td>8</td>\n",
       "      <td>8</td>\n",
       "      <td>1001</td>\n",
       "      <td>481</td>\n",
       "      <td>44</td>\n",
       "      <td>126897.81080</td>\n",
       "    </tr>\n",
       "    <tr>\n",
       "      <th>2</th>\n",
       "      <td>3.0</td>\n",
       "      <td>3</td>\n",
       "      <td>12.00</td>\n",
       "      <td>35.0</td>\n",
       "      <td>7618.50</td>\n",
       "      <td>465.56</td>\n",
       "      <td>0.00</td>\n",
       "      <td>497.98</td>\n",
       "      <td>4</td>\n",
       "      <td>671</td>\n",
       "      <td>0</td>\n",
       "      <td>1</td>\n",
       "      <td>787</td>\n",
       "      <td>670</td>\n",
       "      <td>2</td>\n",
       "      <td>34991.98743</td>\n",
       "    </tr>\n",
       "    <tr>\n",
       "      <th>3</th>\n",
       "      <td>3.0</td>\n",
       "      <td>3</td>\n",
       "      <td>58.00</td>\n",
       "      <td>36.7</td>\n",
       "      <td>10550.15</td>\n",
       "      <td>815.62</td>\n",
       "      <td>316.49</td>\n",
       "      <td>734.95</td>\n",
       "      <td>76</td>\n",
       "      <td>2169</td>\n",
       "      <td>21</td>\n",
       "      <td>5</td>\n",
       "      <td>253</td>\n",
       "      <td>643</td>\n",
       "      <td>61</td>\n",
       "      <td>211695.95090</td>\n",
       "    </tr>\n",
       "    <tr>\n",
       "      <th>4</th>\n",
       "      <td>2.0</td>\n",
       "      <td>3</td>\n",
       "      <td>22.75</td>\n",
       "      <td>34.0</td>\n",
       "      <td>7961.10</td>\n",
       "      <td>484.13</td>\n",
       "      <td>206.82</td>\n",
       "      <td>842.91</td>\n",
       "      <td>4</td>\n",
       "      <td>898</td>\n",
       "      <td>0</td>\n",
       "      <td>2</td>\n",
       "      <td>899</td>\n",
       "      <td>378</td>\n",
       "      <td>14</td>\n",
       "      <td>81377.89874</td>\n",
       "    </tr>\n",
       "  </tbody>\n",
       "</table>\n",
       "</div>"
      ],
      "text/plain": [
       "   NUMERO DE AMBIENTES  Numero de Personas  PAGO ULTIMO MES ELECTRICIDAD  \\\n",
       "0                  2.0                   3                         13.00   \n",
       "1                  4.0                   4                         35.00   \n",
       "2                  3.0                   3                         12.00   \n",
       "3                  3.0                   3                         58.00   \n",
       "4                  2.0                   3                         22.75   \n",
       "\n",
       "   PAGO ULTIMO MES  PARA GLP   Gasto anual del Hogar  ALIMENTOS DENTRO   \\\n",
       "0                        35.0                9432.00             540.47   \n",
       "1                        35.0                8214.25             673.44   \n",
       "2                        35.0                7618.50             465.56   \n",
       "3                        36.7               10550.15             815.62   \n",
       "4                        34.0                7961.10             484.13   \n",
       "\n",
       "   ALIMENTOS DENTRO BENEFICO  ALIMENTOS FUERA   ELECTRICIDAD   GLP  GN  \\\n",
       "0                     293.74            710.72            36   843   0   \n",
       "1                     680.61            399.92           196  1311   8   \n",
       "2                       0.00            497.98             4   671   0   \n",
       "3                     316.49            734.95            76  2169  21   \n",
       "4                     206.82            842.91             4   898   0   \n",
       "\n",
       "   CARBON  LENA  OTRO  NO COCINAN      Organico  \n",
       "0       9   943   348          48   35573.81646  \n",
       "1       8  1001   481          44  126897.81080  \n",
       "2       1   787   670           2   34991.98743  \n",
       "3       5   253   643          61  211695.95090  \n",
       "4       2   899   378          14   81377.89874  "
      ]
     },
     "execution_count": 9,
     "metadata": {},
     "output_type": "execute_result"
    }
   ],
   "source": [
    "df.head()"
   ]
  },
  {
   "cell_type": "code",
   "execution_count": 10,
   "id": "000cd887",
   "metadata": {},
   "outputs": [
    {
     "data": {
      "text/plain": [
       "Index(['NUMERO DE AMBIENTES', 'Numero de Personas',\n",
       "       'PAGO ULTIMO MES ELECTRICIDAD', 'PAGO ULTIMO MES  PARA GLP ',\n",
       "       'Gasto anual del Hogar', 'ALIMENTOS DENTRO ',\n",
       "       'ALIMENTOS DENTRO BENEFICO', 'ALIMENTOS FUERA ', 'ELECTRICIDAD', 'GLP',\n",
       "       'GN', 'CARBON', 'LENA', 'OTRO', 'NO COCINAN', 'Organico'],\n",
       "      dtype='object')"
      ]
     },
     "execution_count": 10,
     "metadata": {},
     "output_type": "execute_result"
    }
   ],
   "source": [
    "df.columns"
   ]
  },
  {
   "cell_type": "code",
   "execution_count": null,
   "id": "498ed528",
   "metadata": {},
   "outputs": [],
   "source": [
    "class solidLR:\n",
    "    def __init__(self,x,y):\n",
    "        self.x=x\n",
    "        self.y=y\n",
    "        #variables que almacenan la normalizacion\n",
    "        self.xn=0\n",
    "        #modelo\n",
    "        self.model=0\n",
    "        pass\n",
    "    def modelo_linear(self):\n",
    "        self.xn=StandardScaler().fit_transform(self.x)\n",
    "        self.model = sm.OLS(self.y,self.xn)\n",
    "        self.model = self.model.fit()\n",
    "    def significancia(self):\n",
    "        return self.model.summary()"
   ]
  },
  {
   "cell_type": "code",
   "execution_count": 12,
   "id": "3ede3ded",
   "metadata": {},
   "outputs": [],
   "source": [
    "diabetes = datasets.load_diabetes()\n",
    "X = diabetes.data\n",
    "y = diabetes.target"
   ]
  },
  {
   "cell_type": "code",
   "execution_count": 16,
   "id": "12281d31",
   "metadata": {},
   "outputs": [
    {
     "name": "stdout",
     "output_type": "stream",
     "text": [
      "                                 OLS Regression Results                                \n",
      "=======================================================================================\n",
      "Dep. Variable:                      y   R-squared (uncentered):                   0.106\n",
      "Model:                            OLS   Adj. R-squared (uncentered):              0.085\n",
      "Method:                 Least Squares   F-statistic:                              5.100\n",
      "Date:                Sun, 29 May 2022   Prob (F-statistic):                    4.72e-07\n",
      "Time:                        12:39:49   Log-Likelihood:                         -2873.9\n",
      "No. Observations:                 442   AIC:                                      5768.\n",
      "Df Residuals:                     432   BIC:                                      5809.\n",
      "Df Model:                          10                                                  \n",
      "Covariance Type:            nonrobust                                                  \n",
      "==============================================================================\n",
      "                 coef    std err          t      P>|t|      [0.025      0.975]\n",
      "------------------------------------------------------------------------------\n",
      "x1           -10.0122    179.967     -0.056      0.956    -363.731     343.707\n",
      "x2          -239.8191    184.404     -1.301      0.194    -602.259     122.621\n",
      "x3           519.8398    200.401      2.594      0.010     125.957     913.723\n",
      "x4           324.3904    197.053      1.646      0.100     -62.912     711.692\n",
      "x5          -792.1842   1255.066     -0.631      0.528   -3258.979    1674.611\n",
      "x6           476.7458   1021.183      0.467      0.641   -1530.360    2483.851\n",
      "x7           101.0446    640.155      0.158      0.875   -1157.162    1359.251\n",
      "x8           177.0642    486.370      0.364      0.716    -778.882    1133.010\n",
      "x9           751.2793    517.774      1.451      0.148    -266.391    1768.950\n",
      "x10           67.6254    198.747      0.340      0.734    -323.005     458.256\n",
      "==============================================================================\n",
      "Omnibus:                        1.506   Durbin-Watson:                   0.223\n",
      "Prob(Omnibus):                  0.471   Jarque-Bera (JB):                1.404\n",
      "Skew:                           0.017   Prob(JB):                        0.496\n",
      "Kurtosis:                       2.726   Cond. No.                         21.7\n",
      "==============================================================================\n",
      "\n",
      "Notes:\n",
      "[1] R² is computed without centering (uncentered) since the model does not contain a constant.\n",
      "[2] Standard Errors assume that the covariance matrix of the errors is correctly specified.\n"
     ]
    }
   ],
   "source": [
    "est = sm.OLS(y, X)\n",
    "est2 = est.fit()\n",
    "print(est2.summary())"
   ]
  },
  {
   "cell_type": "code",
   "execution_count": 14,
   "id": "87785e32",
   "metadata": {},
   "outputs": [],
   "source": [
    "X2 = sm.add_constant(X)"
   ]
  },
  {
   "cell_type": "code",
   "execution_count": 15,
   "id": "16f63704",
   "metadata": {},
   "outputs": [
    {
     "data": {
      "text/plain": [
       "array([[ 1.        ,  0.03807591,  0.05068012, ..., -0.00259226,\n",
       "         0.01990842, -0.01764613],\n",
       "       [ 1.        , -0.00188202, -0.04464164, ..., -0.03949338,\n",
       "        -0.06832974, -0.09220405],\n",
       "       [ 1.        ,  0.08529891,  0.05068012, ..., -0.00259226,\n",
       "         0.00286377, -0.02593034],\n",
       "       ...,\n",
       "       [ 1.        ,  0.04170844,  0.05068012, ..., -0.01107952,\n",
       "        -0.04687948,  0.01549073],\n",
       "       [ 1.        , -0.04547248, -0.04464164, ...,  0.02655962,\n",
       "         0.04452837, -0.02593034],\n",
       "       [ 1.        , -0.04547248, -0.04464164, ..., -0.03949338,\n",
       "        -0.00421986,  0.00306441]])"
      ]
     },
     "execution_count": 15,
     "metadata": {},
     "output_type": "execute_result"
    }
   ],
   "source": [
    "X2"
   ]
  },
  {
   "cell_type": "code",
   "execution_count": null,
   "id": "4d602861",
   "metadata": {},
   "outputs": [],
   "source": []
  }
 ],
 "metadata": {
  "kernelspec": {
   "display_name": "Python 3 (ipykernel)",
   "language": "python",
   "name": "python3"
  },
  "language_info": {
   "codemirror_mode": {
    "name": "ipython",
    "version": 3
   },
   "file_extension": ".py",
   "mimetype": "text/x-python",
   "name": "python",
   "nbconvert_exporter": "python",
   "pygments_lexer": "ipython3",
   "version": "3.8.5"
  }
 },
 "nbformat": 4,
 "nbformat_minor": 5
}

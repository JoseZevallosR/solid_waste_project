{
 "cells": [
  {
   "cell_type": "code",
   "execution_count": 1,
   "id": "7d4322cc",
   "metadata": {},
   "outputs": [],
   "source": [
    "import pandas as pd\n",
    "import sqlite3\n",
    "\n",
    "%config Completer.use_jedi = False #for auto complete cod"
   ]
  },
  {
   "cell_type": "markdown",
   "id": "53b780b6",
   "metadata": {},
   "source": [
    "### Base de datos Sqlite"
   ]
  },
  {
   "cell_type": "code",
   "execution_count": 5,
   "id": "d9acf3dc",
   "metadata": {},
   "outputs": [],
   "source": [
    "conn = sqlite3.connect('../data/solid_waste.db')"
   ]
  },
  {
   "cell_type": "code",
   "execution_count": 6,
   "id": "1cd18781",
   "metadata": {},
   "outputs": [],
   "source": [
    "statistics = ['promedio','media']\n",
    "grupo = ['provincial','departamental','distrital']"
   ]
  },
  {
   "cell_type": "code",
   "execution_count": 7,
   "id": "6312f5ab",
   "metadata": {},
   "outputs": [
    {
     "name": "stderr",
     "output_type": "stream",
     "text": [
      "C:\\Users\\jose\\anaconda3\\envs\\work_env\\lib\\site-packages\\pandas\\core\\generic.py:2779: UserWarning: The spaces in these column names will not be changed. In pandas versions < 0.14, spaces were converted to underscores.\n",
      "  sql.to_sql(\n"
     ]
    }
   ],
   "source": [
    "file = '../data/excel_estadisticos.xlsx'\n",
    "\n",
    "for stat in statistics:\n",
    "    for group in grupo:\n",
    "        sheet_name = stat+'_'+group\n",
    "        df  = pd.read_excel(file,sheet_name=sheet_name,header=0)        \n",
    "        df.to_sql(name = sheet_name,con=conn, if_exists='replace',index=False)\n",
    "        conn.commit()"
   ]
  }
 ],
 "metadata": {
  "kernelspec": {
   "display_name": "Python 3 (ipykernel)",
   "language": "python",
   "name": "python3"
  },
  "language_info": {
   "codemirror_mode": {
    "name": "ipython",
    "version": 3
   },
   "file_extension": ".py",
   "mimetype": "text/x-python",
   "name": "python",
   "nbconvert_exporter": "python",
   "pygments_lexer": "ipython3",
   "version": "3.8.5"
  }
 },
 "nbformat": 4,
 "nbformat_minor": 5
}
